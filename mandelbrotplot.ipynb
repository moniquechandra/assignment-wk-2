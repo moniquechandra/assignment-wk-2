{
 "cells": [
  {
   "cell_type": "code",
   "execution_count": 37,
   "id": "81aa61da",
   "metadata": {},
   "outputs": [],
   "source": [
    "from PIL import Image, ImageDraw\n",
    "from math import log, log2\n",
    "\n",
    "MAX_ITER = 100\n",
    "\n",
    "\n",
    "def mandelbrot(c):\n",
    "    ''' This function is used for the mandelbrot series formula'''\n",
    "    z = 0\n",
    "    n = 0\n",
    "    while abs(z) <= 2 and n < MAX_ITER:\n",
    "        z = z*z + c\n",
    "        n += 1\n",
    "\n",
    "    if n == MAX_ITER:\n",
    "        return MAX_ITER\n",
    "    \n",
    "    return n + 1 - log(log2(abs(z)))\n",
    "\n",
    "\n",
    "def draw_mandel(WIDTH):\n",
    "    ''' This function draws the mandelbrot series and requires a pixel count as input.\n",
    "    It outputs the drawn graph as a .png image.\n",
    "    \n",
    "    '''\n",
    "    HEIGHT = WIDTH\n",
    "    # This part of the code is used to plot the window\n",
    "    RE_START = -2\n",
    "    RE_END = 1\n",
    "    IM_START = -1\n",
    "    IM_END = 1\n",
    "\n",
    "    im = Image.new('HSV', (WIDTH, HEIGHT), (0, 0, 0))\n",
    "    draw = ImageDraw.Draw(im)\n",
    "\n",
    "    for x in range(0, WIDTH):\n",
    "        for y in range(0, HEIGHT):\n",
    "            # Converts pixel coordinate to complex number\n",
    "            c = complex(RE_START + (x / WIDTH) * (RE_END - RE_START),\n",
    "                        IM_START + (y / HEIGHT) * (IM_END - IM_START))\n",
    "            # Number of iterations is calculated\n",
    "            m = mandelbrot(c)\n",
    "            # Color is done based on the number of iterations\n",
    "            hue = int(255 * m / MAX_ITER)\n",
    "            saturation = 255\n",
    "            value = 255 if m < MAX_ITER else 0\n",
    "            # Used to plot each point\n",
    "            draw.point([x, y], (hue, saturation, value))\n",
    "    # Image output\n",
    "    im.convert('RGB').save('output.png', 'PNG')"
   ]
  },
  {
   "cell_type": "code",
   "execution_count": 36,
   "id": "d4736b3c",
   "metadata": {},
   "outputs": [],
   "source": [
    "draw_mandel(500)"
   ]
  }
 ],
 "metadata": {
  "kernelspec": {
   "display_name": "Python 3 (ipykernel)",
   "language": "python",
   "name": "python3"
  },
  "language_info": {
   "codemirror_mode": {
    "name": "ipython",
    "version": 3
   },
   "file_extension": ".py",
   "mimetype": "text/x-python",
   "name": "python",
   "nbconvert_exporter": "python",
   "pygments_lexer": "ipython3",
   "version": "3.9.12"
  }
 },
 "nbformat": 4,
 "nbformat_minor": 5
}
